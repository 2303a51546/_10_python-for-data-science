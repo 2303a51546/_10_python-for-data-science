{
  "nbformat": 4,
  "nbformat_minor": 0,
  "metadata": {
    "colab": {
      "provenance": [],
      "authorship_tag": "ABX9TyO57mibXyQoc+v2xItU8yVz",
      "include_colab_link": true
    },
    "kernelspec": {
      "name": "python3",
      "display_name": "Python 3"
    },
    "language_info": {
      "name": "python"
    }
  },
  "cells": [
    {
      "cell_type": "markdown",
      "metadata": {
        "id": "view-in-github",
        "colab_type": "text"
      },
      "source": [
        "<a href=\"https://colab.research.google.com/github/2303a51546/_10_python-for-data-science/blob/main/LAB_5.ipynb\" target=\"_parent\"><img src=\"https://colab.research.google.com/assets/colab-badge.svg\" alt=\"Open In Colab\"/></a>"
      ]
    },
    {
      "cell_type": "markdown",
      "source": [
        "Merge Product and Sales Datasets and Compute Aggregate Statistics using pandas"
      ],
      "metadata": {
        "id": "XSQG9oKiBLEv"
      }
    },
    {
      "cell_type": "code",
      "execution_count": 8,
      "metadata": {
        "id": "GfK5ns3C5CjJ"
      },
      "outputs": [],
      "source": [
        "import pandas as pd"
      ]
    },
    {
      "cell_type": "code",
      "source": [
        "# Products Dataset\n",
        "products = pd.DataFrame({\n",
        "'product_id': [101, 102, 103, 104, 105],\n",
        "'product_name': ['Laptop', 'Mouse', 'Keyboard', 'Monitor', 'Headphones'],\n",
        "'category': ['Electronics', 'Accessories', 'Accessories', 'Electronics', 'Accessories'],\n",
        "'price': [80000, 1200, 2500, 15000, 3500]\n",
        " })\n",
        "products.to_csv(\"products.csv\", index=False)"
      ],
      "metadata": {
        "id": "oYSOnoyC6C8U"
      },
      "execution_count": 9,
      "outputs": []
    },
    {
      "cell_type": "code",
      "source": [
        "sales = pd.DataFrame({\n",
        "'sale_id': [1, 2, 3, 4, 5, 6, 7],\n",
        "'product_id': [101, 102, 103, 101, 105, 105, 104],\n",
        "'quantity': [2, 10, 5, 1, 3, 1, 2]\n",
        "})\n",
        "sales.to_csv(\"sales.csv\", index=False)\n"
      ],
      "metadata": {
        "id": "TVpEFKGz6KOo"
      },
      "execution_count": 10,
      "outputs": []
    },
    {
      "cell_type": "code",
      "source": [
        "print(\" Datasets Created & Saved: products.csv, sales.csv\\n\")"
      ],
      "metadata": {
        "colab": {
          "base_uri": "https://localhost:8080/",
          "height": 0
        },
        "id": "8UYZqT_M6XvX",
        "outputId": "7ddf4808-41b4-4818-852a-538f816ec0eb"
      },
      "execution_count": 11,
      "outputs": [
        {
          "output_type": "stream",
          "name": "stdout",
          "text": [
            " Datasets Created & Saved: products.csv, sales.csv\n",
            "\n"
          ]
        }
      ]
    },
    {
      "cell_type": "code",
      "source": [
        "products = pd.read_csv(\"products.csv\")\n",
        "sales = pd.read_csv(\"sales.csv\")\n",
        "\n",
        "print(\"PRODUCTS DATASET \")\n",
        "print(products, \"\\n\")\n",
        "\n",
        "print(\"SALES DATASET\")\n",
        "print(sales, \"\\n\")"
      ],
      "metadata": {
        "colab": {
          "base_uri": "https://localhost:8080/",
          "height": 0
        },
        "id": "8E337kDM6Zsn",
        "outputId": "954328fe-4562-4d55-f82b-a90400e37ecf"
      },
      "execution_count": 12,
      "outputs": [
        {
          "output_type": "stream",
          "name": "stdout",
          "text": [
            "PRODUCTS DATASET \n",
            "   product_id product_name     category  price\n",
            "0         101       Laptop  Electronics  80000\n",
            "1         102        Mouse  Accessories   1200\n",
            "2         103     Keyboard  Accessories   2500\n",
            "3         104      Monitor  Electronics  15000\n",
            "4         105   Headphones  Accessories   3500 \n",
            "\n",
            "SALES DATASET\n",
            "   sale_id  product_id  quantity\n",
            "0        1         101         2\n",
            "1        2         102        10\n",
            "2        3         103         5\n",
            "3        4         101         1\n",
            "4        5         105         3\n",
            "5        6         105         1\n",
            "6        7         104         2 \n",
            "\n"
          ]
        }
      ]
    },
    {
      "cell_type": "code",
      "source": [
        "# Inner Join\n",
        "merged_inner = pd.merge(sales, products, on='product_id', how='inner')\n",
        "print(\"INNER JOIN RESULT\")\n",
        "print(merged_inner, \"\\n\")\n"
      ],
      "metadata": {
        "colab": {
          "base_uri": "https://localhost:8080/",
          "height": 0
        },
        "id": "mr6Z30Jd6tCR",
        "outputId": "2a2ac9d2-de75-4bbd-eafd-58ddc5ffeaa4"
      },
      "execution_count": 13,
      "outputs": [
        {
          "output_type": "stream",
          "name": "stdout",
          "text": [
            "INNER JOIN RESULT\n",
            "   sale_id  product_id  quantity product_name     category  price\n",
            "0        1         101         2       Laptop  Electronics  80000\n",
            "1        2         102        10        Mouse  Accessories   1200\n",
            "2        3         103         5     Keyboard  Accessories   2500\n",
            "3        4         101         1       Laptop  Electronics  80000\n",
            "4        5         105         3   Headphones  Accessories   3500\n",
            "5        6         105         1   Headphones  Accessories   3500\n",
            "6        7         104         2      Monitor  Electronics  15000 \n",
            "\n"
          ]
        }
      ]
    },
    {
      "cell_type": "code",
      "source": [
        "# Outer Join\n",
        "merged_outer = pd.merge(sales, products, on='product_id', how='outer')\n",
        "print(\"OUTER JOIN RESULT\")\n",
        "print(merged_outer, \"\\n\")"
      ],
      "metadata": {
        "colab": {
          "base_uri": "https://localhost:8080/",
          "height": 0
        },
        "id": "TxhODinf61-H",
        "outputId": "dc5c924e-55d1-4688-dd94-799d99de801a"
      },
      "execution_count": 14,
      "outputs": [
        {
          "output_type": "stream",
          "name": "stdout",
          "text": [
            "OUTER JOIN RESULT\n",
            "   sale_id  product_id  quantity product_name     category  price\n",
            "0        1         101         2       Laptop  Electronics  80000\n",
            "1        4         101         1       Laptop  Electronics  80000\n",
            "2        2         102        10        Mouse  Accessories   1200\n",
            "3        3         103         5     Keyboard  Accessories   2500\n",
            "4        7         104         2      Monitor  Electronics  15000\n",
            "5        5         105         3   Headphones  Accessories   3500\n",
            "6        6         105         1   Headphones  Accessories   3500 \n",
            "\n"
          ]
        }
      ]
    },
    {
      "cell_type": "code",
      "source": [
        "merged_inner['revenue'] = merged_inner['price'] * merged_inner['quantity']\n",
        "\n",
        "# Total Revenue\n",
        "total_revenue = merged_inner['revenue'].sum()\n",
        "print(f\"TOTAL REVENUE: {total_revenue}\")"
      ],
      "metadata": {
        "colab": {
          "base_uri": "https://localhost:8080/",
          "height": 0
        },
        "id": "TQ6sdUSS66kN",
        "outputId": "8e941a7f-6939-47ef-fdda-51ed9ca44a1b"
      },
      "execution_count": 15,
      "outputs": [
        {
          "output_type": "stream",
          "name": "stdout",
          "text": [
            "TOTAL REVENUE: 308500\n"
          ]
        }
      ]
    },
    {
      "cell_type": "code",
      "source": [
        "# Average Price\n",
        "average_price = merged_inner['price'].mean()\n",
        "print(f\"AVERAGE PRODUCT PRICE: {average_price}\\n\")"
      ],
      "metadata": {
        "colab": {
          "base_uri": "https://localhost:8080/",
          "height": 0
        },
        "id": "e0Dfpo-_7B1i",
        "outputId": "875a9009-6930-4bf1-c1cd-ce6fbc0d0225"
      },
      "execution_count": 16,
      "outputs": [
        {
          "output_type": "stream",
          "name": "stdout",
          "text": [
            "AVERAGE PRODUCT PRICE: 26528.571428571428\n",
            "\n"
          ]
        }
      ]
    },
    {
      "cell_type": "code",
      "source": [
        "# Product-wise Sales\n",
        "product_sales = merged_inner.groupby('product_name')['revenue'].sum().reset_index()\n",
        "print(\"PRODUCT-WISE SALES\")\n",
        "print(product_sales, \"\\n\")"
      ],
      "metadata": {
        "colab": {
          "base_uri": "https://localhost:8080/",
          "height": 0
        },
        "id": "A7KIOaWQ7EUe",
        "outputId": "914033a1-a994-4620-a6d5-7fe65e71d801"
      },
      "execution_count": 17,
      "outputs": [
        {
          "output_type": "stream",
          "name": "stdout",
          "text": [
            "PRODUCT-WISE SALES\n",
            "  product_name  revenue\n",
            "0   Headphones    14000\n",
            "1     Keyboard    12500\n",
            "2       Laptop   240000\n",
            "3      Monitor    30000\n",
            "4        Mouse    12000 \n",
            "\n"
          ]
        }
      ]
    },
    {
      "cell_type": "code",
      "source": [
        "# Category-wise Sales\n",
        "category_sales = merged_inner.groupby('category')['revenue'].sum().reset_index()\n",
        "print(\" CATEGORY-WISE SALES \")\n",
        "print(category_sales, \"\\n\")\n"
      ],
      "metadata": {
        "colab": {
          "base_uri": "https://localhost:8080/",
          "height": 0
        },
        "id": "sAiGjbTN7JwW",
        "outputId": "a4129d9e-30b6-47dd-c914-40490acb342c"
      },
      "execution_count": 18,
      "outputs": [
        {
          "output_type": "stream",
          "name": "stdout",
          "text": [
            " CATEGORY-WISE SALES \n",
            "      category  revenue\n",
            "0  Accessories    38500\n",
            "1  Electronics   270000 \n",
            "\n"
          ]
        }
      ]
    },
    {
      "cell_type": "code",
      "source": [
        "# Best-Selling Category\n",
        "best_category = category_sales.loc[category_sales['revenue'].idxmax()]\n",
        "print(f\"BEST SELLING CATEGORY: {best_category['category']} (Revenue: {best_category['revenue']})\")\n"
      ],
      "metadata": {
        "colab": {
          "base_uri": "https://localhost:8080/",
          "height": 0
        },
        "id": "Kc-o_KgS7SGB",
        "outputId": "700f2635-cd91-4c2e-99c3-d028461c61cc"
      },
      "execution_count": 19,
      "outputs": [
        {
          "output_type": "stream",
          "name": "stdout",
          "text": [
            "BEST SELLING CATEGORY: Electronics (Revenue: 270000)\n"
          ]
        }
      ]
    },
    {
      "cell_type": "markdown",
      "source": [
        "Merge Teachers and Courses Datasets and Compute Aggregate Statistics"
      ],
      "metadata": {
        "id": "qq2MD_BS-m9z"
      }
    },
    {
      "cell_type": "code",
      "source": [
        "import pandas as pd"
      ],
      "metadata": {
        "id": "f-fEsvst-orh"
      },
      "execution_count": 20,
      "outputs": []
    },
    {
      "cell_type": "code",
      "source": [
        "teachers = pd.DataFrame({\n",
        "'teacher_id': [1, 2, 3, 4, 5],\n",
        "'teacher_name': ['madhuri', 'varsha', 'nithya', 'karuna', 'sai'],\n",
        "'department': ['Computer Science', 'Mathematics', 'Computer Science', 'Physics', 'Mathematics']\n",
        "})\n",
        "teachers.to_csv(\"teachers.csv\", index=False)\n"
      ],
      "metadata": {
        "id": "pIbO4vLO-tjj"
      },
      "execution_count": 21,
      "outputs": []
    },
    {
      "cell_type": "code",
      "source": [
        "courses = pd.DataFrame({\n",
        "'course_id': [101, 102, 103, 104, 105, 106, 107],\n",
        "'course_name': ['Data Structures', 'Algorithms', 'Calculus', 'Physics 1', 'AI', 'OS', 'Chemistry'],\n",
        "'teacher_id': [1, 1, 2, 4, 3, 1, 999],\n",
        "'hours_per_week': [4, 3, 5, 3, 4, 2, 3]\n",
        "})\n",
        "courses.to_csv(\"courses.csv\", index=False)\n"
      ],
      "metadata": {
        "id": "4pMgZiEV-2k1"
      },
      "execution_count": 22,
      "outputs": []
    },
    {
      "cell_type": "code",
      "source": [
        "courses.to_csv(\"courses.csv\", index=False)\n",
        "\n",
        "print(\"Datasets created and saved: teachers.csv, courses.csv\\n\")"
      ],
      "metadata": {
        "colab": {
          "base_uri": "https://localhost:8080/",
          "height": 0
        },
        "id": "iQPwOKE0_C57",
        "outputId": "96348059-5172-48ea-c3b6-a9abf4b2d524"
      },
      "execution_count": 23,
      "outputs": [
        {
          "output_type": "stream",
          "name": "stdout",
          "text": [
            "Datasets created and saved: teachers.csv, courses.csv\n",
            "\n"
          ]
        }
      ]
    },
    {
      "cell_type": "code",
      "source": [
        "teachers = pd.read_csv(\"teachers.csv\")\n",
        "courses = pd.read_csv(\"courses.csv\")\n",
        "\n",
        "print(\"TEACHERS DATASET \")\n",
        "print(teachers, \"\\n\")\n",
        "\n",
        "print(\" COURSES DATASET\")\n",
        "print(courses, \"\\n\")"
      ],
      "metadata": {
        "colab": {
          "base_uri": "https://localhost:8080/",
          "height": 0
        },
        "id": "7z6NX3IG_HVU",
        "outputId": "a702d3d8-d262-46d1-87f7-ed6407c10d9e"
      },
      "execution_count": 24,
      "outputs": [
        {
          "output_type": "stream",
          "name": "stdout",
          "text": [
            "TEACHERS DATASET \n",
            "   teacher_id teacher_name        department\n",
            "0           1      madhuri  Computer Science\n",
            "1           2       varsha       Mathematics\n",
            "2           3       nithya  Computer Science\n",
            "3           4       karuna           Physics\n",
            "4           5          sai       Mathematics \n",
            "\n",
            " COURSES DATASET\n",
            "   course_id      course_name  teacher_id  hours_per_week\n",
            "0        101  Data Structures           1               4\n",
            "1        102       Algorithms           1               3\n",
            "2        103         Calculus           2               5\n",
            "3        104        Physics 1           4               3\n",
            "4        105               AI           3               4\n",
            "5        106               OS           1               2\n",
            "6        107        Chemistry         999               3 \n",
            "\n"
          ]
        }
      ]
    },
    {
      "cell_type": "code",
      "source": [
        "# Inner Join:\n",
        "merged_inner = pd.merge(courses, teachers, on=\"teacher_id\", how=\"inner\")\n",
        "print(\" INNER JOIN RESULT\")\n",
        "print(merged_inner, \"\\n\")"
      ],
      "metadata": {
        "colab": {
          "base_uri": "https://localhost:8080/",
          "height": 0
        },
        "id": "iAEdyNwV_MH_",
        "outputId": "a3f12d2a-b779-4d2a-b3d1-fec579e6eb23"
      },
      "execution_count": 25,
      "outputs": [
        {
          "output_type": "stream",
          "name": "stdout",
          "text": [
            " INNER JOIN RESULT\n",
            "   course_id      course_name  teacher_id  hours_per_week teacher_name  \\\n",
            "0        101  Data Structures           1               4      madhuri   \n",
            "1        102       Algorithms           1               3      madhuri   \n",
            "2        103         Calculus           2               5       varsha   \n",
            "3        104        Physics 1           4               3       karuna   \n",
            "4        105               AI           3               4       nithya   \n",
            "5        106               OS           1               2      madhuri   \n",
            "\n",
            "         department  \n",
            "0  Computer Science  \n",
            "1  Computer Science  \n",
            "2       Mathematics  \n",
            "3           Physics  \n",
            "4  Computer Science  \n",
            "5  Computer Science   \n",
            "\n"
          ]
        }
      ]
    },
    {
      "cell_type": "code",
      "source": [
        "# Left Join:\n",
        "merged_left = pd.merge(courses, teachers, on=\"teacher_id\", how=\"left\")\n",
        "print(\" LEFT JOIN RESULT \")\n",
        "print(merged_left, \"\\n\")"
      ],
      "metadata": {
        "colab": {
          "base_uri": "https://localhost:8080/",
          "height": 0
        },
        "id": "hax9bAkK_RJB",
        "outputId": "70cccf07-ca13-4dc1-a16c-40beefc4b6ca"
      },
      "execution_count": 26,
      "outputs": [
        {
          "output_type": "stream",
          "name": "stdout",
          "text": [
            " LEFT JOIN RESULT \n",
            "   course_id      course_name  teacher_id  hours_per_week teacher_name  \\\n",
            "0        101  Data Structures           1               4      madhuri   \n",
            "1        102       Algorithms           1               3      madhuri   \n",
            "2        103         Calculus           2               5       varsha   \n",
            "3        104        Physics 1           4               3       karuna   \n",
            "4        105               AI           3               4       nithya   \n",
            "5        106               OS           1               2      madhuri   \n",
            "6        107        Chemistry         999               3          NaN   \n",
            "\n",
            "         department  \n",
            "0  Computer Science  \n",
            "1  Computer Science  \n",
            "2       Mathematics  \n",
            "3           Physics  \n",
            "4  Computer Science  \n",
            "5  Computer Science  \n",
            "6               NaN   \n",
            "\n"
          ]
        }
      ]
    },
    {
      "cell_type": "code",
      "source": [
        "#Average number of courses per teacher\n",
        "courses_per_teacher = merged_inner.groupby(\"teacher_name\")[\"course_id\"].count()\n",
        "average_courses = courses_per_teacher.mean()\n",
        "print(f\"AVERAGE COURSES PER TEACHER: {average_courses}\\n\")"
      ],
      "metadata": {
        "colab": {
          "base_uri": "https://localhost:8080/",
          "height": 0
        },
        "id": "NHn9LWRq_Vgr",
        "outputId": "165233d1-e6e9-4de6-ce8d-ab846bfe5adc"
      },
      "execution_count": 27,
      "outputs": [
        {
          "output_type": "stream",
          "name": "stdout",
          "text": [
            "AVERAGE COURSES PER TEACHER: 1.5\n",
            "\n"
          ]
        }
      ]
    },
    {
      "cell_type": "code",
      "source": [
        "# Department-wise total workload\n",
        "dept_workload = merged_inner.groupby(\"department\")[\"hours_per_week\"].sum().reset_index()\n",
        "print(\" DEPARTMENT-WISE TOTAL WORKLOAD \")\n",
        "print(dept_workload, \"\\n\")"
      ],
      "metadata": {
        "colab": {
          "base_uri": "https://localhost:8080/",
          "height": 0
        },
        "id": "P-O39wDo_ZfI",
        "outputId": "c0ed8df9-5828-44a7-c1f7-39ed1435837d"
      },
      "execution_count": 28,
      "outputs": [
        {
          "output_type": "stream",
          "name": "stdout",
          "text": [
            " DEPARTMENT-WISE TOTAL WORKLOAD \n",
            "         department  hours_per_week\n",
            "0  Computer Science              13\n",
            "1       Mathematics               5\n",
            "2           Physics               3 \n",
            "\n"
          ]
        }
      ]
    },
    {
      "cell_type": "code",
      "source": [
        "# Teacher-wise workload\n",
        "teacher_workload = merged_inner.groupby(\"teacher_name\")[\"hours_per_week\"].sum().reset_index()\n",
        "print(\"TEACHER-WISE WORKLOAD \")\n",
        "print(teacher_workload, \"\\n\")"
      ],
      "metadata": {
        "colab": {
          "base_uri": "https://localhost:8080/",
          "height": 0
        },
        "id": "tblCCKcy_c7W",
        "outputId": "95750082-e21a-4aa5-bed9-182b7d37f5a6"
      },
      "execution_count": 29,
      "outputs": [
        {
          "output_type": "stream",
          "name": "stdout",
          "text": [
            "TEACHER-WISE WORKLOAD \n",
            "  teacher_name  hours_per_week\n",
            "0       karuna               3\n",
            "1      madhuri               9\n",
            "2       nithya               4\n",
            "3       varsha               5 \n",
            "\n"
          ]
        }
      ]
    },
    {
      "cell_type": "code",
      "source": [
        "# Department with highest workload\n",
        "top_dept = dept_workload.loc[dept_workload[\"hours_per_week\"].idxmax()]\n",
        "print(f\"DEPARTMENT WITH HIGHEST WORKLOAD: {top_dept['department']} ({top_dept['hours_per_week']} hours/week)\")\n"
      ],
      "metadata": {
        "colab": {
          "base_uri": "https://localhost:8080/",
          "height": 0
        },
        "id": "Y6IJsbSRAELh",
        "outputId": "cab3aee1-f51a-468c-96d6-39ac9f93dec6"
      },
      "execution_count": 30,
      "outputs": [
        {
          "output_type": "stream",
          "name": "stdout",
          "text": [
            "DEPARTMENT WITH HIGHEST WORKLOAD: Computer Science (13 hours/week)\n"
          ]
        }
      ]
    }
  ]
}