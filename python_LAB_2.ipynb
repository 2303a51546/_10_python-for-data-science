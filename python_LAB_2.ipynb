{
  "nbformat": 4,
  "nbformat_minor": 0,
  "metadata": {
    "colab": {
      "provenance": [],
      "authorship_tag": "ABX9TyNiYv/ZR7xftfJOPNoW/Ds0",
      "include_colab_link": true
    },
    "kernelspec": {
      "name": "python3",
      "display_name": "Python 3"
    },
    "language_info": {
      "name": "python"
    }
  },
  "cells": [
    {
      "cell_type": "markdown",
      "metadata": {
        "id": "view-in-github",
        "colab_type": "text"
      },
      "source": [
        "<a href=\"https://colab.research.google.com/github/2303a51546/_10_python-for-data-science/blob/main/python_LAB_2.ipynb\" target=\"_parent\"><img src=\"https://colab.research.google.com/assets/colab-badge.svg\" alt=\"Open In Colab\"/></a>"
      ]
    },
    {
      "cell_type": "markdown",
      "source": [
        "Student Grades analysis using Numpy arrays"
      ],
      "metadata": {
        "id": "n0WIDpZe7U8c"
      }
    },
    {
      "cell_type": "code",
      "execution_count": 2,
      "metadata": {
        "colab": {
          "base_uri": "https://localhost:8080/",
          "height": 596
        },
        "id": "VzxUfQbbwWII",
        "outputId": "abf12c0e-7af7-4c3f-aca4-6cc5749267f7"
      },
      "outputs": [
        {
          "output_type": "stream",
          "name": "stdout",
          "text": [
            "Monthly Temperatures (°C):\n",
            " [12 14 18 24 30 34 32 31 28 22 16 13]\n",
            "\n",
            "Average Temperature: 22.833333333333332\n"
          ]
        },
        {
          "output_type": "stream",
          "name": "stderr",
          "text": [
            "/tmp/ipython-input-2894790417.py:14: UserWarning: No artists with labels found to put in legend.  Note that artists whose label start with an underscore are ignored when legend() is called with no argument.\n",
            "  plt.legend()\n"
          ]
        },
        {
          "output_type": "display_data",
          "data": {
            "text/plain": [
              "<Figure size 640x480 with 1 Axes>"
            ],
            "image/png": "[encoded data removed]"
          },
          "metadata": {}
        }
      ],
      "source": [
        "import numpy as np\n",
        "import matplotlib.pyplot as plt\n",
        "temps_c = np.array([12, 14, 18, 24, 30, 34, 32, 31, 28, 22, 16, 13])\n",
        "months = np.array([\"Jan\", \"Feb\", \"Mar\", \"Apr\", \"May\", \"Jun\",\n",
        "\"Jul\", \"Aug\", \"Sep\", \"Oct\", \"Nov\", \"Dec\"])\n",
        "print(\"Monthly Temperatures (°C):\\n\", temps_c)\n",
        "avg_temp = np.mean(temps_c)\n",
        "print(\"\\nAverage Temperature:\", avg_temp)\n",
        "hottest_idx = np.argmax(temps_c)\n",
        "coldest_idx = np.argmin(temps_c)\n",
        "plt.title(\"Monthly Temperature Trend\")\n",
        "plt.xlabel(\"Month\")\n",
        "plt.ylabel(\"Temperature (°C)\")\n",
        "plt.legend()\n",
        "plt.grid(True)\n",
        "plt.show()\n",
        "\n",
        "\n"
      ]
    },
    {
      "cell_type": "markdown",
      "source": [
        "Employee Salary analysis using with pandas Data Frame"
      ],
      "metadata": {
        "id": "4pXipXbH7tKy"
      }
    },
    {
      "cell_type": "code",
      "source": [
        "import pandas as pd\n",
        "data = {\n",
        "    \"OrderID\": [101, 102, 103, 104, 105, 106],\n",
        "    \"Product\": [\"Laptop\", \"Phone\", \"Tablet\", \"Laptop\", \"Headphones\", \"Phone\"],\n",
        "    \"Quantity\": [1, 3, 2, 1, 5, 4],\n",
        "    \"Price\": [75000, 20000, 15000, 80000, 2000, 22000]\n",
        "}\n",
        "df = pd.DataFrame(data)\n",
        "print(\"Original Data:\\n\", df)\n",
        "df[\"TotalSale\"] = df[\"Quantity\"] * df[\"Price\"]\n",
        "print(\"\\nData with Total Sale:\\n\", df)\n",
        "high_sales = df[df[\"TotalSale\"] > 1000]\n",
        "print(\"\\nOrders with Total Sale > 1000:\\n\", high_sales)\n",
        "most_sold = df.groupby(\"Product\")[\"Quantity\"].sum().sort_values(ascending=False)\n",
        "print(\"\\nMost Sold Products:\\n\", most_sold)\n",
        "df[\"Discount\"] = df[\"TotalSale\"].apply(lambda x: 0.10*x if x > 50000 else 0.05*x)\n",
        "print(\"\\nData with Discount:\\n\", df)\n",
        "df.to_excel(\"ecommerce_sales_summary.xlsx\", index=False)\n",
        "print(\"\\n✅ Sales summary exported to 'ecommerce_sales_summary.xlsx'\")"
      ],
      "metadata": {
        "colab": {
          "base_uri": "https://localhost:8080/"
        },
        "id": "nERYXO9f1aA0",
        "outputId": "d07898fd-5399-40c4-99e2-a41922a6dd19"
      },
      "execution_count": 4,
      "outputs": [
        {
          "output_type": "stream",
          "name": "stdout",
          "text": [
            "Original Data:\n",
            "    OrderID     Product  Quantity  Price\n",
            "0      101      Laptop         1  75000\n",
            "1      102       Phone         3  20000\n",
            "2      103      Tablet         2  15000\n",
            "3      104      Laptop         1  80000\n",
            "4      105  Headphones         5   2000\n",
            "5      106       Phone         4  22000\n",
            "\n",
            "Data with Total Sale:\n",
            "    OrderID     Product  Quantity  Price  TotalSale\n",
            "0      101      Laptop         1  75000      75000\n",
            "1      102       Phone         3  20000      60000\n",
            "2      103      Tablet         2  15000      30000\n",
            "3      104      Laptop         1  80000      80000\n",
            "4      105  Headphones         5   2000      10000\n",
            "5      106       Phone         4  22000      88000\n",
            "\n",
            "Orders with Total Sale > 1000:\n",
            "    OrderID     Product  Quantity  Price  TotalSale\n",
            "0      101      Laptop         1  75000      75000\n",
            "1      102       Phone         3  20000      60000\n",
            "2      103      Tablet         2  15000      30000\n",
            "3      104      Laptop         1  80000      80000\n",
            "4      105  Headphones         5   2000      10000\n",
            "5      106       Phone         4  22000      88000\n",
            "\n",
            "Most Sold Products:\n",
            " Product\n",
            "Phone         7\n",
            "Headphones    5\n",
            "Laptop        2\n",
            "Tablet        2\n",
            "Name: Quantity, dtype: int64\n",
            "\n",
            "Data with Discount:\n",
            "    OrderID     Product  Quantity  Price  TotalSale  Discount\n",
            "0      101      Laptop         1  75000      75000    7500.0\n",
            "1      102       Phone         3  20000      60000    6000.0\n",
            "2      103      Tablet         2  15000      30000    1500.0\n",
            "3      104      Laptop         1  80000      80000    8000.0\n",
            "4      105  Headphones         5   2000      10000     500.0\n",
            "5      106       Phone         4  22000      88000    8800.0\n",
            "\n",
            "✅ Sales summary exported to 'ecommerce_sales_summary.xlsx'\n"
          ]
        }
      ]
    }
  ]
}