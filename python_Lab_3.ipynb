{
  "nbformat": 4,
  "nbformat_minor": 0,
  "metadata": {
    "colab": {
      "provenance": [],
      "authorship_tag": "ABX9TyNoJAs/mYMuhGDDdEqbOkmw",
      "include_colab_link": true
    },
    "kernelspec": {
      "name": "python3",
      "display_name": "Python 3"
    },
    "language_info": {
      "name": "python"
    }
  },
  "cells": [
    {
      "cell_type": "markdown",
      "metadata": {
        "id": "view-in-github",
        "colab_type": "text"
      },
      "source": [
        "<a href=\"https://colab.research.google.com/github/2303a51546/_10_python-for-data-science/blob/main/python_Lab_3.ipynb\" target=\"_parent\"><img src=\"https://colab.research.google.com/assets/colab-badge.svg\" alt=\"Open In Colab\"/></a>"
      ]
    },
    {
      "cell_type": "code",
      "execution_count": 1,
      "metadata": {
        "colab": {
          "base_uri": "https://localhost:8080/"
        },
        "id": "7cH4RdmxASXi",
        "outputId": "3f8ebe74-d653-4932-823e-7a602f97aba1"
      },
      "outputs": [
        {
          "output_type": "stream",
          "name": "stdout",
          "text": [
            "[[20 30 40]\n",
            " [40 50 60]]\n",
            "[[15 10 25]\n",
            " [20 25 35]]\n"
          ]
        }
      ],
      "source": [
        "import numpy as np\n",
        "A=np.array([[20,30,40],[40,50,60]])\n",
        "B=np.array([[15,10,25],[20,25,35]])\n",
        "print(A)\n",
        "print(B)\n",
        "\n",
        "\n"
      ]
    },
    {
      "cell_type": "code",
      "source": [
        "addition=np.add(A,B)\n",
        "print(addition)\n",
        "subtraction=np.subtract(A,B)\n",
        "print(subtraction)\n",
        "\n",
        "\n",
        "\n",
        "\n"
      ],
      "metadata": {
        "colab": {
          "base_uri": "https://localhost:8080/"
        },
        "id": "i424Q3DSAlWk",
        "outputId": "9abe2b61-6c45-4537-ca95-1ddc372ba613"
      },
      "execution_count": 2,
      "outputs": [
        {
          "output_type": "stream",
          "name": "stdout",
          "text": [
            "[[35 40 65]\n",
            " [60 75 95]]\n",
            "[[ 5 20 15]\n",
            " [20 25 25]]\n"
          ]
        }
      ]
    },
    {
      "cell_type": "code",
      "source": [
        "import numpy as np\n",
        "scores = np.random.randint(0, 101, (4, 4))\n",
        "print(\"Test Scores (4x4):\\n\", scores)\n",
        "row_mean = np.mean(scores, axis=1)\n",
        "print(\"\\nRow-wise Mean (per student):\\n\", row_mean)\n",
        "col_mean = np.mean(scores, axis=0)\n",
        "print(\"\\nColumn-wise Mean (per subject):\\n\", col_mean)\n",
        "std_dev = np.std(scores)\n",
        "variance = np.var(scores)\n",
        "print(\"\\nStandard Deviation of all scores:\", std_dev)\n",
        "print(\"Variance of all scores:\", variance)\n",
        "max_value = np.max(scores)\n",
        "min_value = np.min(scores)\n",
        "max_index = np.unravel_index(np.argmax(scores), scores.shape)\n",
        "min_index = np.unravel_index(np.argmin(scores), scores.shape)\n",
        "print(\"\\nMaximum Score:\", max_value)\n",
        "print(\"Minimum Score:\", min_value)"
      ],
      "metadata": {
        "id": "_-VZhXMyUQxD",
        "outputId": "1d714623-d5f1-4648-fa50-7408964b15cf",
        "colab": {
          "base_uri": "https://localhost:8080/"
        }
      },
      "execution_count": 3,
      "outputs": [
        {
          "output_type": "stream",
          "name": "stdout",
          "text": [
            "Test Scores (4x4):\n",
            " [[ 5 43 49 49]\n",
            " [44 13  1 79]\n",
            " [50 23 36 19]\n",
            " [70 64 94 74]]\n",
            "\n",
            "Row-wise Mean (per student):\n",
            " [36.5  34.25 32.   75.5 ]\n",
            "\n",
            "Column-wise Mean (per subject):\n",
            " [42.25 35.75 45.   55.25]\n",
            "\n",
            "Standard Deviation of all scores: 26.509358606914653\n",
            "Variance of all scores: 702.74609375\n",
            "\n",
            "Maximum Score: 94\n",
            "Minimum Score: 1\n"
          ]
        }
      ]
    },
    {
      "cell_type": "code",
      "source": [
        "import numpy as np\n",
        "image = np.random.randint(0, 256, (3, 3, 3))\n",
        "print(\"Original Image:\\n\", image)\n",
        "red   = image[:, :, 0]\n",
        "green = image[:, :, 1]\n",
        "blue  = image[:, :, 2]\n",
        "print(\"\\nRed Channel:\\n\", red)\n",
        "print(\"\\nGreen Channel:\\n\", green)\n",
        "print(\"\\nBlue Channel:\\n\", blue)\n",
        "print(\"\\nAverage Red:\", np.mean(red))\n",
        "print(\"Average Green:\", np.mean(green))\n",
        "print(\"Average Blue:\", np.mean(blue))\n",
        "bright = np.clip(np.add(image, 50), 0, 255)\n",
        "print(\"\\nBrightened Image:\\n\", bright)\n",
        "dark = np.clip(np.subtract(image, 50), 0, 255)\n",
        "print(\"\\nDarkened Image:\\n\", dark)\n"
      ],
      "metadata": {
        "id": "5KRUEsZdVNws",
        "outputId": "9e2fbb12-1c1b-423a-884b-a080635307e4",
        "colab": {
          "base_uri": "https://localhost:8080/"
        }
      },
      "execution_count": 5,
      "outputs": [
        {
          "output_type": "stream",
          "name": "stdout",
          "text": [
            "Original Image:\n",
            " [[[ 26 101  79]\n",
            "  [242 174 197]\n",
            "  [ 56 124 117]]\n",
            "\n",
            " [[ 15 139  70]\n",
            "  [239 142 118]\n",
            "  [  4 102 195]]\n",
            "\n",
            " [[  8 172  43]\n",
            "  [ 90 203  97]\n",
            "  [173  98 172]]]\n",
            "\n",
            "Red Channel:\n",
            " [[ 26 242  56]\n",
            " [ 15 239   4]\n",
            " [  8  90 173]]\n",
            "\n",
            "Green Channel:\n",
            " [[101 174 124]\n",
            " [139 142 102]\n",
            " [172 203  98]]\n",
            "\n",
            "Blue Channel:\n",
            " [[ 79 197 117]\n",
            " [ 70 118 195]\n",
            " [ 43  97 172]]\n",
            "\n",
            "Average Red: 94.77777777777777\n",
            "Average Green: 139.44444444444446\n",
            "Average Blue: 120.88888888888889\n",
            "\n",
            "Brightened Image:\n",
            " [[[ 76 151 129]\n",
            "  [255 224 247]\n",
            "  [106 174 167]]\n",
            "\n",
            " [[ 65 189 120]\n",
            "  [255 192 168]\n",
            "  [ 54 152 245]]\n",
            "\n",
            " [[ 58 222  93]\n",
            "  [140 253 147]\n",
            "  [223 148 222]]]\n",
            "\n",
            "Darkened Image:\n",
            " [[[  0  51  29]\n",
            "  [192 124 147]\n",
            "  [  6  74  67]]\n",
            "\n",
            " [[  0  89  20]\n",
            "  [189  92  68]\n",
            "  [  0  52 145]]\n",
            "\n",
            " [[  0 122   0]\n",
            "  [ 40 153  47]\n",
            "  [123  48 122]]]\n"
          ]
        }
      ]
    }
  ]
}